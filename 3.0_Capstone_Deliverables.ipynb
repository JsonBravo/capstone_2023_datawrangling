{
 "cells": [
  {
   "cell_type": "markdown",
   "id": "ceb82ac0",
   "metadata": {},
   "source": [
    "# The Capstone Deliverables"
   ]
  },
  {
   "cell_type": "markdown",
   "id": "3d0204cf",
   "metadata": {},
   "source": [
    "### Elasticsearch Synonym Filter"
   ]
  },
  {
   "cell_type": "code",
   "execution_count": 6,
   "id": "6e7a535f",
   "metadata": {},
   "outputs": [
    {
     "name": "stdout",
     "output_type": "stream",
     "text": [
      "messier 1, sh 2 244, crab, sharpless 244, m 1, crab neb, crab nebula, taurus a, ngc 1952\n",
      "messier 2, ngc 7089, m 2, gcl 121\n",
      "ngc 5272, messier 3, gcl 25, m 3\n",
      "spider globular, messier 4, gcl 41, ngc 6121, m 4\n",
      "ngc 5904, messier 5, m 5, rose cluster, gcl 34\n",
      "m 6, ngc 6405, butterfly cluster, messier 6\n",
      "ngc 6475, ptolemy's cluster, m 7, messier 7\n",
      "gum 72, ngc 6523, sharpless 25, messier 8, m 8, rcw 146, sh 2 25, lagoon nebula\n",
      "gcl 60, messier 9, ngc 6333, m 9\n",
      "m 10, messier 10, ngc 6254\n",
      "ngc 6705, wild duck cluster, m 11, messier 11\n",
      "m 12, ngc 6218, messier 12\n",
      "m 13, hercules globular cluster, great hercules cluster, messier 13, ngc 6205\n",
      "messier 14, gcl 72, ngc 6402, m 14\n",
      "ngc 7078, great pegasus cluster, messier 15, gcl 120, m 15\n",
      "star queen, eagle nebula, lbn 67, ngc 6611, ocl 54, ic 4703, messier 16, sh 2 49, gum 83, sharpless 49, m 16\n",
      "horseshoe nebula, omega swan horseshoe lobster or checkmark nebula, m 17, sh 2 45, lbn 60, sharpless 45, swan nebula, omega nebula, gum 81, messier 17, lobster nebul .... \n"
     ]
    }
   ],
   "source": [
    "# this deliverable can be found as follows\n",
    "filter_file = './deliverables/astrononimcal_synonyms_112923.txt'\n",
    "\n",
    "# Open the file in read mode ('r')\n",
    "with open(filter_file, 'r') as file:\n",
    "    # Read the entire content of the file\n",
    "    file_content = file.read()\n",
    "\n",
    "# printing just part of the file\n",
    "print(f'{file_content[:1000]} .... ')\n"
   ]
  },
  {
   "cell_type": "markdown",
   "id": "803dcf2c",
   "metadata": {},
   "source": [
    "### Image Title Classification Model"
   ]
  },
  {
   "cell_type": "code",
   "execution_count": 2,
   "id": "753e8062",
   "metadata": {},
   "outputs": [],
   "source": [
    "# This deliverable requires the following imports:\n",
    "# MODEL IMPORT\n",
    "import joblib\n",
    "model_file = './deliverables/full_model.joblib'\n",
    "imported_model = joblib.load('./data/full_model.joblib')\n",
    "# CLEANING METHOD IMPORT\n",
    "import classes_and_methods.soam_class as soam #contains a text cleaning method\n",
    "# CLASS CLASSIFICATION METHOD IMPORT\n",
    "import classes_and_methods.title_classification as classifier"
   ]
  },
  {
   "cell_type": "code",
   "execution_count": 3,
   "id": "5e466070",
   "metadata": {
    "scrolled": true
   },
   "outputs": [
    {
     "data": {
      "text/plain": [
       "{'A mountain sky with a comet': ['WIDE_FIELD', 'NOCTILUCENT_CLOUDS', 'OTHER'],\n",
       " 'Milky Way in the Mountains': ['WIDE_FIELD', 'OTHER', 'DEEP_SKY'],\n",
       " 'Pluto the Dog!': ['DEEP_SKY', 'SOLAR_SYSTEM', 'OTHER'],\n",
       " 'Pluto the Planet!': ['SOLAR_SYSTEM', 'WIDE_FIELD', 'STAR_TRAILS'],\n",
       " 'The CPC1100 Ready... To... Go!': ['GEAR', 'WIDE_FIELD', 'STAR_TRAILS'],\n",
       " 'Cygnus Loop Nebula': ['DEEP_SKY', 'WIDE_FIELD', 'OTHER']}"
      ]
     },
     "execution_count": 3,
     "metadata": {},
     "output_type": "execute_result"
    }
   ],
   "source": [
    "# Example use of the classifier\n",
    "new_titles = [\"A mountain sky with a comet\",\n",
    "            \"Milky Way in the Mountains\",\n",
    "            \"Pluto the Dog!\", \n",
    "            \"Pluto the Planet!\",\n",
    "            \"The CPC1100 Ready... To... Go!\",\n",
    "            \"Cygnus Loop Nebula\"\n",
    "           ]\n",
    "classifier.subject_type_classifications(new_text = new_titles,\n",
    "                                         top_n = 3, # ... if you want to return the top 3 results\n",
    "                                         cleaning_method = soam.provided_cleaning_method, \n",
    "                                         imported_model = imported_model,\n",
    "                                         values_only = False #set True if you do not want a dictionary returned   \n",
    "                                        )"
   ]
  },
  {
   "cell_type": "markdown",
   "id": "a549b12d",
   "metadata": {},
   "source": [
    "# BONUS Deliverables"
   ]
  },
  {
   "cell_type": "markdown",
   "id": "84766e02",
   "metadata": {},
   "source": [
    "### The SOAM Data Structure"
   ]
  },
  {
   "cell_type": "code",
   "execution_count": 12,
   "id": "6673cc28",
   "metadata": {},
   "outputs": [
    {
     "name": "stdout",
     "output_type": "stream",
     "text": [
      "SOAM Started ---------------- \n",
      "SOAM Cleaning Method Test -- \n",
      "original test string: \"   #][!,@ ^&*NGc224-.99+9abc. ...   \"\n",
      "cleaned test string: \"ngc 224 99 9 abc\"\n",
      "The IMPORTED SOAM: 25642 names / aliases mapped across 4264 objects.\n"
     ]
    }
   ],
   "source": [
    "# The following imports are required\n",
    "# IMPORTED SOAM CLASS\n",
    "import classes_and_methods.soam_class as soam\n",
    "# IMPORTED SOAM (pre-built)\n",
    "imported_soam = soam.Soam()\n",
    "imported_soam.import_soam(file_location = \"./deliverables/\",file_name=\"soam_cleaned_bulk_export\")\n",
    "print(f'The IMPORTED SOAM: {imported_soam}')"
   ]
  },
  {
   "cell_type": "code",
   "execution_count": 13,
   "id": "ea8ed4e6",
   "metadata": {},
   "outputs": [
    {
     "data": {
      "text/plain": [
       "{'and nebula',\n",
       " 'andromeda',\n",
       " 'andromeda galaxy',\n",
       " 'andromeda nebula',\n",
       " 'da 21',\n",
       " 'gin 801',\n",
       " 'hd 3969',\n",
       " 'k 79 1 c',\n",
       " 'leda 2557',\n",
       " 'm 31',\n",
       " 'ngc 224',\n",
       " 'plx 124',\n",
       " 'ppm 43228',\n",
       " 'rafgl 104',\n",
       " 'ugc 454'}"
      ]
     },
     "execution_count": 13,
     "metadata": {},
     "output_type": "execute_result"
    }
   ],
   "source": [
    "#EXAMPLE: Get all M31 aliases\n",
    "imported_soam.get_aliases(\"M31\")"
   ]
  },
  {
   "cell_type": "code",
   "execution_count": 16,
   "id": "1e261c81",
   "metadata": {},
   "outputs": [
    {
     "data": {
      "text/plain": [
       "'crab nebula is a much better target than lagoon nebula or andromeda galaxy'"
      ]
     },
     "execution_count": 16,
     "metadata": {},
     "output_type": "execute_result"
    }
   ],
   "source": [
    "#EXAMPLE: Switch in arbitrary standard names of all space objects in a given sentence \n",
    "test_sentence = \"M 1 is a much better target than M 8 or ngc 224\"\n",
    "imported_soam.switch_in_standard_names(test_sentence)"
   ]
  },
  {
   "cell_type": "markdown",
   "id": "9d92dd87",
   "metadata": {},
   "source": [
    "### The SIMBAD Query Helper Method"
   ]
  },
  {
   "cell_type": "code",
   "execution_count": 17,
   "id": "ed6013f3",
   "metadata": {},
   "outputs": [],
   "source": [
    "# The following imports are required\n",
    "# IMPORT simbad_alias_search\n",
    "import classes_and_methods.simbad_alias_search as simbad"
   ]
  },
  {
   "cell_type": "code",
   "execution_count": 19,
   "id": "047352bb",
   "metadata": {},
   "outputs": [
    {
     "name": "stdout",
     "output_type": "stream",
     "text": [
      "---- STARTING QUERY ----\n",
      "... 1 queries completed...\n"
     ]
    },
    {
     "name": "stderr",
     "output_type": "stream",
     "text": [
      "WARNING: BlankResponseWarning: Warning: The script line number 2 raised an error (recorded in the `errors` attribute of the result table): 'Hello World' this identifier has an incorrect format for catalogs: \tH : catalogue H \tH ( [astroquery.simbad.core]\n"
     ]
    },
    {
     "name": "stdout",
     "output_type": "stream",
     "text": [
      "---- QUERY END ----\n"
     ]
    },
    {
     "data": {
      "text/plain": [
       "{'queue': ['ngc 224', 'm 31', 'Crab Nebula', 'Hello World'],\n",
       " 'associations': [{'searched': 'ngc 224',\n",
       "   'found_associations': ['PPM 43228',\n",
       "    'HD 3969',\n",
       "    'PLX 124',\n",
       "    '2C 56',\n",
       "    'DA 21',\n",
       "    'GIN 801',\n",
       "    'K79 1C',\n",
       "    'LEDA 2557',\n",
       "    'Andromeda',\n",
       "    'Andromeda Galaxy',\n",
       "    'NGC 224',\n",
       "    'RAFGL 104',\n",
       "    'UGC 454',\n",
       "    'Z 535-17',\n",
       "    'And Nebula',\n",
       "    'Andromeda Nebula']},\n",
       "  {'searched': 'm 31',\n",
       "   'found_associations': ['PPM 43228',\n",
       "    'HD 3969',\n",
       "    'PLX 124',\n",
       "    '2C 56',\n",
       "    'DA 21',\n",
       "    'GIN 801',\n",
       "    'K79 1C',\n",
       "    'LEDA 2557',\n",
       "    'Andromeda',\n",
       "    'Andromeda Galaxy',\n",
       "    'NGC 224',\n",
       "    'RAFGL 104',\n",
       "    'UGC 454',\n",
       "    'Z 535-17',\n",
       "    'And Nebula',\n",
       "    'Andromeda Nebula']},\n",
       "  {'searched': 'Crab Nebula',\n",
       "   'found_associations': ['2C 481',\n",
       "    '2E 1309',\n",
       "    '3C 144',\n",
       "    '3CR 144',\n",
       "    'AJG 1',\n",
       "    'CTA 36',\n",
       "    'CTB 18',\n",
       "    'DA 179',\n",
       "    'DB 38',\n",
       "    'LBN 833',\n",
       "    'CRAB NEB',\n",
       "    'Crab',\n",
       "    'Crab Nebula',\n",
       "    'Tau A',\n",
       "    'Taurus A',\n",
       "    'NGC 1952',\n",
       "    'NRAO 214',\n",
       "    'NRL 2',\n",
       "    'SH 2-244',\n",
       "    'X Tau X-1',\n",
       "    'X Tau XR-1',\n",
       "    'W 9']}],\n",
       " 'bad_names': ['Hello World']}"
      ]
     },
     "execution_count": 19,
     "metadata": {},
     "output_type": "execute_result"
    }
   ],
   "source": [
    "#Example Query\n",
    "test_queue = ['ngc 224', 'm 31', 'Crab Nebula', 'Hello World']\n",
    "simbad.online_alias_search(test_queue)"
   ]
  }
 ],
 "metadata": {
  "kernelspec": {
   "display_name": "Python 3 (ipykernel)",
   "language": "python",
   "name": "python3"
  },
  "language_info": {
   "codemirror_mode": {
    "name": "ipython",
    "version": 3
   },
   "file_extension": ".py",
   "mimetype": "text/x-python",
   "name": "python",
   "nbconvert_exporter": "python",
   "pygments_lexer": "ipython3",
   "version": "3.9.12"
  }
 },
 "nbformat": 4,
 "nbformat_minor": 5
}
